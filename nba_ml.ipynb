{
 "cells": [
  {
   "cell_type": "code",
   "execution_count": 1,
   "metadata": {},
   "outputs": [],
   "source": [
    "# Importing the necessary packages\n",
    "import pandas as pd\n",
    "import numpy as np\n",
    "from scipy import stats\n",
    "\n",
    "import matplotlib.pyplot as plt\n",
    "import seaborn as sns\n",
    "\n",
    "from sklearn.decomposition import PCA\n",
    "from sklearn.preprocessing import StandardScaler\n",
    "from statsmodels.stats.outliers_influence import variance_inflation_factor\n",
    "\n",
    "from sklearn.model_selection import train_test_split\n",
    "from sklearn.linear_model import LogisticRegression\n",
    "from sklearn.neighbors import KNeighborsClassifier\n",
    "from sklearn.ensemble import RandomForestClassifier\n",
    "from sklearn.neural_network import MLPClassifier\n",
    "from sklearn.model_selection import GridSearchCV\n",
    "\n",
    "from sklearn.metrics import f1_score\n",
    "\n",
    "import warnings\n",
    "warnings.filterwarnings('ignore')\n"
   ]
  },
  {
   "cell_type": "code",
   "execution_count": 2,
   "metadata": {},
   "outputs": [],
   "source": [
    "# Loading the data\n",
    "nba_dataset = pd.read_csv(\"nba.csv\")\n"
   ]
  },
  {
   "cell_type": "code",
   "execution_count": 3,
   "metadata": {},
   "outputs": [
    {
     "name": "stdout",
     "output_type": "stream",
     "text": [
      "<class 'pandas.core.frame.DataFrame'>\n",
      "RangeIndex: 1340 entries, 0 to 1339\n",
      "Data columns (total 21 columns):\n",
      "Name    1340 non-null object\n",
      "GP      1340 non-null int64\n",
      "MIN     1340 non-null float64\n",
      "PPT     1340 non-null float64\n",
      "FGM     1340 non-null float64\n",
      "FGA     1340 non-null float64\n",
      "FG%     1340 non-null float64\n",
      "3PM     1340 non-null float64\n",
      "3PA     1340 non-null float64\n",
      "3P%     1329 non-null float64\n",
      "FTM     1340 non-null float64\n",
      "FTA     1340 non-null float64\n",
      "FT%     1340 non-null float64\n",
      "OREB    1340 non-null float64\n",
      "DREB    1340 non-null float64\n",
      "REB     1340 non-null float64\n",
      "AST     1340 non-null float64\n",
      "STL     1340 non-null float64\n",
      "BLK     1340 non-null float64\n",
      "TOV     1340 non-null float64\n",
      "TAR     1340 non-null int64\n",
      "dtypes: float64(18), int64(2), object(1)\n",
      "memory usage: 219.9+ KB\n",
      "None\n"
     ]
    }
   ],
   "source": [
    "# Data inspection and \n",
    "\n",
    "# print(nba_dataset.columns)\n",
    "print(nba_dataset.info())\n",
    "# print(nba_dataset.describe())\n",
    "# X_nba[nba_dataset[\"3P%\"].isnull()]\n"
   ]
  },
  {
   "cell_type": "code",
   "execution_count": 4,
   "metadata": {},
   "outputs": [],
   "source": [
    "# Addressing the null value by Winsorizing\n",
    "\n",
    "'''\n",
    "t1 = np.nanmean(nba_dataset[\"3P%\"])\n",
    "t1 = round(t1, 3)\n",
    "\n",
    "def f1(x):\n",
    "    if x != x:\n",
    "        return t1\n",
    "    else:\n",
    "        return x\n",
    "\n",
    "nba_dataset[\"3P%\"] = nba_dataset[\"3P%\"].apply(f1)\n",
    "nba_dataset[nba_dataset[\"3P%\"].isnull()]\n",
    "\n",
    "'''\n",
    "\n",
    "# Or Addressing the null value by removing them\n",
    "nba_dataset = nba_dataset[nba_dataset[\"3P%\"].notnull()]\n"
   ]
  },
  {
   "cell_type": "code",
   "execution_count": 5,
   "metadata": {},
   "outputs": [],
   "source": [
    "# Separating the features and label\n",
    "X_nba = nba_dataset.iloc[:,1:-1] # Dropping the first column that contains name field (Not useful for ML), Last column is label\n",
    "y_nba = nba_dataset.iloc[:,-1]\n"
   ]
  },
  {
   "cell_type": "code",
   "execution_count": 6,
   "metadata": {},
   "outputs": [
    {
     "name": "stdout",
     "output_type": "stream",
     "text": [
      "AxesSubplot(0.125,0.125;0.775x0.755)\n"
     ]
    },
    {
     "data": {
      "image/png": "[encoded data removed]",
      "text/plain": [
       "<Figure size 432x288 with 1 Axes>"
      ]
     },
     "metadata": {
      "needs_background": "light"
     },
     "output_type": "display_data"
    }
   ],
   "source": [
    "# Data visualization for outliers\n",
    "\n",
    "# print(sns.boxplot(data = X_nba.iloc[:,0:4], width = 0.8))\n",
    "# print(sns.boxplot(data = X_nba.iloc[:,4:8]))\n",
    "# print(sns.boxplot(data = X_nba.iloc[:,8:12]))\n",
    "# print(sns.boxplot(data = X_nba.iloc[:,12:16]))\n",
    "# print(sns.boxplot(data = X_nba.iloc[:,16:19]))\n",
    "\n",
    "# Possible presence of outliers in fields PPT, 3P%, FT%, AST, BLK\n",
    "print(sns.boxplot(data = X_nba[['PPT','3P%','FT%','AST','BLK']]))\n"
   ]
  },
  {
   "cell_type": "code",
   "execution_count": 7,
   "metadata": {},
   "outputs": [
    {
     "name": "stdout",
     "output_type": "stream",
     "text": [
      "PPT max:  PPT    28.2\n",
      "dtype: float64\n",
      "PPT min:  PPT    0.7\n",
      "dtype: float64\n",
      "3P% max:  3P%    100.0\n",
      "dtype: float64\n",
      "3P% min:  3P%    0.0\n",
      "dtype: float64\n",
      "FT% max:  FT%    100.0\n",
      "dtype: float64\n",
      "FT% min:  FT%    0.0\n",
      "dtype: float64\n",
      "AST max:  AST    10.6\n",
      "dtype: float64\n",
      "AST min:  AST    0.0\n",
      "dtype: float64\n",
      "BLK max:  BLK    3.9\n",
      "dtype: float64\n",
      "BLK min:  BLK    0.0\n",
      "dtype: float64\n"
     ]
    }
   ],
   "source": [
    "# Printing the max min values of the fields having outliers\n",
    "print('PPT max: ', X_nba[['PPT']].max())\n",
    "print('PPT min: ', X_nba[['PPT']].min())\n",
    "\n",
    "print('3P% max: ', X_nba[['3P%']].max())\n",
    "print('3P% min: ', X_nba[['3P%']].min())\n",
    "\n",
    "print('FT% max: ', X_nba[['FT%']].max())\n",
    "print('FT% min: ', X_nba[['FT%']].min())\n",
    "\n",
    "print('AST max: ', X_nba[['AST']].max())\n",
    "print('AST min: ', X_nba[['AST']].min())\n",
    "\n",
    "print('BLK max: ', X_nba[['BLK']].max())\n",
    "print('BLK min: ', X_nba[['BLK']].min())\n"
   ]
  },
  {
   "cell_type": "code",
   "execution_count": 8,
   "metadata": {},
   "outputs": [],
   "source": [
    "# Outlier processing\n",
    "\n",
    "for i in range(len(X_nba.columns)):        \n",
    "    lv, uv = (0, 0)\n",
    "    if X_nba.iloc[:,i].min() < 0:\n",
    "        lv, uv = np.percentile(X_nba.iloc[:,i], [1,98])\n",
    "    else:\n",
    "        lv, uv = np.percentile(X_nba.iloc[:,i], [0,98])\n",
    "    \n",
    "    X_nba.iloc[:,i] = np.clip(X_nba.iloc[:,i], lv, uv)\n"
   ]
  },
  {
   "cell_type": "code",
   "execution_count": 9,
   "metadata": {},
   "outputs": [
    {
     "data": {
      "text/plain": [
       "<matplotlib.axes._subplots.AxesSubplot at 0x15c0132fb70>"
      ]
     },
     "execution_count": 9,
     "metadata": {},
     "output_type": "execute_result"
    },
    {
     "data": {
      "image/png": "[encoded data removed]",
      "text/plain": [
       "<Figure size 648x648 with 2 Axes>"
      ]
     },
     "metadata": {
      "needs_background": "light"
     },
     "output_type": "display_data"
    }
   ],
   "source": [
    "# Plotting the correlation matrix\n",
    "X_correlation = X_nba.corr()\n",
    "\n",
    "f, ax = plt.subplots(figsize=(9, 9))\n",
    "sns.heatmap(X_correlation, center = 0, square = True, linewidths = 0.5)\n"
   ]
  },
  {
   "cell_type": "code",
   "execution_count": 10,
   "metadata": {},
   "outputs": [
    {
     "name": "stdout",
     "output_type": "stream",
     "text": [
      "GP        1.724674\n",
      "MIN      17.327732\n",
      "PPT     972.624008\n",
      "FGM     606.680528\n",
      "FGA     127.747684\n",
      "FG%       4.217940\n",
      "3PM      45.050580\n",
      "3PA      41.539527\n",
      "3P%       1.996388\n",
      "FTM     113.297836\n",
      "FTA      73.874232\n",
      "FT%       2.689233\n",
      "OREB     93.252178\n",
      "DREB    280.824880\n",
      "REB     626.930150\n",
      "AST       5.384609\n",
      "STL       3.532096\n",
      "BLK       2.324645\n",
      "TOV       7.987843\n",
      "dtype: float64\n"
     ]
    }
   ],
   "source": [
    "# Calculating Variation Inflation Factor (VIF) to obtain colinearity among features\n",
    "\n",
    "X_nba_scaled = StandardScaler().fit_transform(X_nba)\n",
    "vif = pd.Series([variance_inflation_factor(X_nba_scaled, i) for i in range(X_nba_scaled.shape[1])], X_nba.columns)\n",
    "\n",
    "print(vif)\n"
   ]
  },
  {
   "cell_type": "code",
   "execution_count": 11,
   "metadata": {},
   "outputs": [
    {
     "name": "stdout",
     "output_type": "stream",
     "text": [
      "[9.60533294 4.00226214 1.24588756 0.86493313 0.71259076 0.57382652\n",
      " 0.44116053 0.43563705 0.35665594]\n",
      "[0.50516344 0.21048688 0.06552369 0.04548854 0.03747656 0.03017867\n",
      " 0.0232015  0.02291101 0.01875724]\n"
     ]
    }
   ],
   "source": [
    "# The VIF value larger than 5 depicts the presence of collinearity among features.\n",
    "# Applying PCA to reduce collinearity\n",
    "\n",
    "nba_pca_model = PCA(n_components = 0.95, svd_solver = 'full')\n",
    "X_nba_pca = nba_pca_model.fit_transform(X_nba_scaled)\n",
    "\n",
    "print(nba_pca_model.explained_variance_)\n",
    "print(nba_pca_model.explained_variance_ratio_)\n"
   ]
  },
  {
   "cell_type": "code",
   "execution_count": 12,
   "metadata": {},
   "outputs": [
    {
     "name": "stdout",
     "output_type": "stream",
     "text": [
      "AxesSubplot(0.125,0.1925;0.62x0.62)\n",
      "0    1.0\n",
      "1    1.0\n",
      "2    1.0\n",
      "3    1.0\n",
      "4    1.0\n",
      "5    1.0\n",
      "6    1.0\n",
      "7    1.0\n",
      "8    1.0\n",
      "dtype: float64\n"
     ]
    },
    {
     "data": {
      "image/png": "[encoded data removed]",
      "text/plain": [
       "<Figure size 432x432 with 2 Axes>"
      ]
     },
     "metadata": {
      "needs_background": "light"
     },
     "output_type": "display_data"
    }
   ],
   "source": [
    "X_nba_pca_df = pd.DataFrame(X_nba_pca)\n",
    "\n",
    "# print(X_nba_pca_df.shape)\n",
    "X_nba_pca_df.head()\n",
    "\n",
    "# Plotting the correlation matrix after PCA to check whether correlation among features has reduced\n",
    "X_corr_new = X_nba_pca_df.corr()\n",
    "\n",
    "f, ax = plt.subplots(figsize=(6, 6))\n",
    "print(sns.heatmap(X_corr_new, center=0, square=True, linewidths=.5))\n",
    "\n",
    "# Fresh calculations of VIF to ensure the VIF is less than 5 after the application of PCA\n",
    "vif_new = pd.Series([variance_inflation_factor(X_nba_pca_df.values, i) for i in range(X_nba_pca_df.shape[1])], X_nba_pca_df.columns)\n",
    "print(vif_new)\n"
   ]
  },
  {
   "cell_type": "code",
   "execution_count": 13,
   "metadata": {},
   "outputs": [],
   "source": [
    "# Splitting of train test dataset\n",
    "# X_train, X_test, y_train, y_test = train_test_split(X_nba_pca, y_nba, test_size = 0.20, shuffle = True, random_state = 42)\n",
    "# X_train, X_test, y_train, y_test = train_test_split(X_nba_scaled, y_nba, test_size = 0.20, shuffle = True)\n",
    "# X_train, X_test, y_train, y_test = train_test_split(X_nba, y_nba, test_size = 0.20, shuffle = True)\n"
   ]
  },
  {
   "cell_type": "code",
   "execution_count": 14,
   "metadata": {},
   "outputs": [
    {
     "name": "stdout",
     "output_type": "stream",
     "text": [
      "Best F1 score by KNN is: 0.68\n",
      "Best hyper parameters are: {'n_neighbors': 30}\n"
     ]
    }
   ],
   "source": [
    "# The code in this section is for predicting with the K-nearest neighbors classifier \n",
    "# GridSearchCV() is used for finding the best hyperparameters\n",
    "\n",
    "X_train, X_test, y_train, y_test = train_test_split(X_nba_scaled, y_nba, test_size = 0.20, shuffle = True)\n",
    "\n",
    "knn_classifier = KNeighborsClassifier(n_jobs = -1)\n",
    "parameters = {'n_neighbors':[10,15,20,25,30]}\n",
    "gs_knn = GridSearchCV(knn_classifier, param_grid = parameters, cv = 10)\n",
    "\n",
    "gs_knn.fit(X_train, y_train)\n",
    "y_pred_knn = gs_knn.predict(X_test)\n",
    "\n",
    "best_score_knn = f1_score(y_test, y_pred_knn, average = 'weighted')\n",
    "best_score_knn = round(best_score_knn, 2)\n",
    "\n",
    "print('Best F1 score by KNN is:', best_score_knn)\n",
    "print('Best hyper parameters are:', gs_knn.best_params_)\n"
   ]
  },
  {
   "cell_type": "code",
   "execution_count": 15,
   "metadata": {},
   "outputs": [
    {
     "name": "stdout",
     "output_type": "stream",
     "text": [
      "Best F1 score by Random Forest is: 0.75\n",
      "Best hyper parameters are: {'max_depth': 20, 'n_estimators': 100}\n"
     ]
    }
   ],
   "source": [
    "# The code in this section is for predicting with the Random forest classifier \n",
    "# GridSearchCV() is used for finding the best hyperparameters\n",
    "\n",
    "X_train, X_test, y_train, y_test = train_test_split(X_nba_scaled, y_nba, test_size = 0.20, shuffle = True)\n",
    "\n",
    "rf_classifier = RandomForestClassifier(n_jobs = -1)\n",
    "parameters = {'n_estimators':[10,15,20,30,50,100], 'max_depth':(5,10,15,20,25)}\n",
    "gs_rf = GridSearchCV(rf_classifier, param_grid = parameters, cv = 10)\n",
    "\n",
    "gs_rf.fit(X_train, y_train)\n",
    "y_pred_rf = gs_rf.predict(X_test)\n",
    "\n",
    "best_score_rf = f1_score(y_test, y_pred_rf)\n",
    "best_score_rf = round(best_score_rf, 2)\n",
    "\n",
    "print('Best F1 score by Random Forest is:', best_score_rf)\n",
    "print('Best hyper parameters are:', gs_rf.best_params_)\n"
   ]
  },
  {
   "cell_type": "code",
   "execution_count": 16,
   "metadata": {},
   "outputs": [
    {
     "name": "stdout",
     "output_type": "stream",
     "text": [
      "\n",
      "Best F1 score by Logistic Regression with param set 1 is: 0.79\n",
      "Best hyper parameters are: {'C': 10, 'penalty': 'l1', 'solver': 'saga'}\n",
      "\n",
      "---------------------------------------------------------------------------\n",
      "\n",
      "Best F1 score by Logistic Regression with param set 2 is: 0.8\n",
      "Best hyper parameters are: {'C': 1, 'penalty': 'l2', 'solver': 'saga'}\n",
      "\n",
      "---------------------------------------------------------------------------\n",
      "\n",
      "Best F1 score by Logistic Regression with param set 3 is: 0.8\n",
      "Best hyper parameters are: {'C': 1, 'penalty': 'l2', 'solver': 'lbfgs'}\n",
      "\n",
      "---------------------------------------------------------------------------\n",
      "\n",
      "Best F1 score by Logistic Regression with param set 4 is: 0.79\n",
      "Best hyper parameters are: {'C': 10, 'l1_ratio': 0.5, 'penalty': 'elasticnet', 'solver': 'saga'}\n",
      "\n",
      "---------------------------------------------------------------------------\n",
      "\n",
      "Best F1 score by Logistic Regression with param set 5 is: 0.79\n",
      "Best hyper parameters are: {'C': 10, 'penalty': 'none', 'solver': 'lbfgs'}\n",
      "\n",
      "---------------------------------------------------------------------------\n"
     ]
    }
   ],
   "source": [
    "# The code in this section is for predicting with the Logistic regression \n",
    "# GridSearchCV() is used for finding the best hyperparameters\n",
    "\n",
    "# X_train, X_test, y_train, y_test = train_test_split(X_nba_pca, y_nba, test_size = 0.20, shuffle = True)\n",
    "X_train, X_test, y_train, y_test = train_test_split(X_nba_scaled, y_nba, test_size = 0.20, shuffle = True)\n",
    "\n",
    "lr_classifier = LogisticRegression()\n",
    "parameters_0 = {'solver':['saga'], 'penalty':['l1'], 'C':[10,5,2,1,0.5,0.2,0.1]}\n",
    "parameters_1 = {'solver':['saga'], 'penalty':['l2'], 'C':[10,5,2,1,0.5,0.2,0.1]}\n",
    "parameters_3 = {'solver':['lbfgs'], 'penalty':['l2'], 'C':[10,5,2,1,0.5,0.2,0.1]}\n",
    "parameters_4 = {'solver':['saga'], 'penalty':['elasticnet'], 'C':[10,5,2,1,0.5,0.2,0.1], 'l1_ratio':[0.25, 0.5, 0.75]}\n",
    "parameters_5 = {'solver':['lbfgs'], 'penalty':['none'], 'C':[10,5,2,1,0.5,0.2,0.1]}\n",
    "\n",
    "param = [parameters_0, parameters_1, parameters_3, parameters_4, parameters_5]\n",
    "loop = 1\n",
    "\n",
    "optimal_score_lr = 0\n",
    "for p in param:\n",
    "    gs_lr = GridSearchCV(lr_classifier, param_grid = p, cv = 10)\n",
    "    gs_lr.fit(X_train, y_train)\n",
    "    y_pred_lr = gs_lr.predict(X_test)\n",
    "    best_score_lr = f1_score(y_test, y_pred_lr)\n",
    "    best_score_lr = round(best_score_lr, 2)\n",
    "    \n",
    "    print()\n",
    "    print('Best F1 score by Logistic Regression with param set ' + str(loop) + ' is:', best_score_lr)\n",
    "    print('Best hyper parameters are:', gs_lr.best_params_)\n",
    "    print()\n",
    "    print('-'*75)\n",
    "    loop += 1\n",
    "    \n",
    "    if best_score_lr > optimal_score_lr:\n",
    "        optimal_score_lr = best_score_lr\n"
   ]
  },
  {
   "cell_type": "code",
   "execution_count": 17,
   "metadata": {},
   "outputs": [
    {
     "name": "stdout",
     "output_type": "stream",
     "text": [
      "Best F1 score by ANN is: 0.78\n",
      "Best hyper parameters are: {'alpha': 0.001, 'hidden_layer_sizes': (3,), 'learning_rate_init': 0.001}\n"
     ]
    }
   ],
   "source": [
    "# The code in this section is for predicting with the ANN\n",
    "# GridSearchCV() is used for finding the best hyperparameters\n",
    "X_train, X_test, y_train, y_test = train_test_split(X_nba_scaled, y_nba, test_size = 0.20, shuffle = True)\n",
    "\n",
    "mlp_classifier = MLPClassifier()\n",
    "parameters = {'hidden_layer_sizes':[(3,), (5,), (8,)], 'alpha':[0.0001, 0.001], 'learning_rate_init':[0.001, 0.01]}\n",
    "\n",
    "gs_ann = GridSearchCV(mlp_classifier, param_grid = parameters, cv = 10)\n",
    "\n",
    "gs_ann.fit(X_train, y_train)\n",
    "y_pred_ann = gs_ann.predict(X_test)\n",
    "\n",
    "best_score_ann = f1_score(y_test, y_pred_ann)\n",
    "best_score_ann = round(best_score_ann, 2)\n",
    "\n",
    "print('Best F1 score by ANN is:', best_score_ann)\n",
    "print('Best hyper parameters are:', gs_ann.best_params_)\n"
   ]
  },
  {
   "cell_type": "code",
   "execution_count": 18,
   "metadata": {},
   "outputs": [
    {
     "name": "stdout",
     "output_type": "stream",
     "text": [
      "Best F1 score by KNN is: 0.68\n",
      "Best F1 score by Random Forest is: 0.75\n",
      "Best F1 score by Logistic Regression is: 0.8\n",
      "Best F1 score by ANN is: 0.78\n",
      "The model with the best F1 score and the corresponding score is: ('Logistic Regression', 0.8)\n"
     ]
    }
   ],
   "source": [
    "# Performance comparison of various models\n",
    "print('Best F1 score by KNN is:', best_score_knn)\n",
    "print('Best F1 score by Random Forest is:', best_score_rf)\n",
    "print('Best F1 score by Logistic Regression is:', optimal_score_lr)\n",
    "print('Best F1 score by ANN is:', best_score_ann)\n",
    "\n",
    "best_scores = {'KNN': best_score_knn, 'Random Forest': best_score_rf, 'Logistic Regression': optimal_score_lr, \\\n",
    "               'ANN': best_score_ann}\n",
    "\n",
    "sorted_best = sorted(best_scores.items(), key = lambda x: x[1])\n",
    "print('The model with the best F1 score and the corresponding score is:', sorted_best[-1])\n"
   ]
  },
  {
   "cell_type": "code",
   "execution_count": null,
   "metadata": {},
   "outputs": [],
   "source": []
  }
 ],
 "metadata": {
  "kernelspec": {
   "display_name": "Python 3",
   "language": "python",
   "name": "python3"
  },
  "language_info": {
   "codemirror_mode": {
    "name": "ipython",
    "version": 3
   },
   "file_extension": ".py",
   "mimetype": "text/x-python",
   "name": "python",
   "nbconvert_exporter": "python",
   "pygments_lexer": "ipython3",
   "version": "3.7.3"
  }
 },
 "nbformat": 4,
 "nbformat_minor": 2
}
